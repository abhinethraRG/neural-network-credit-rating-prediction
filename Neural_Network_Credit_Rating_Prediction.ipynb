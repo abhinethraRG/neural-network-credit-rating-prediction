{
  "nbformat": 4,
  "nbformat_minor": 0,
  "metadata": {
    "colab": {
      "provenance": [],
      "authorship_tag": "ABX9TyO96U3IWZXas1txfwRaq3j4",
      "include_colab_link": true
    },
    "kernelspec": {
      "name": "python3",
      "display_name": "Python 3"
    },
    "language_info": {
      "name": "python"
    }
  },
  "cells": [
    {
      "cell_type": "markdown",
      "metadata": {
        "id": "view-in-github",
        "colab_type": "text"
      },
      "source": [
        "<a href=\"https://colab.research.google.com/github/abhinethraRG/neural-network-credit-rating-prediction/blob/main/Neural_Network_Credit_Rating_Prediction.ipynb\" target=\"_parent\"><img src=\"https://colab.research.google.com/assets/colab-badge.svg\" alt=\"Open In Colab\"/></a>"
      ]
    },
    {
      "cell_type": "markdown",
      "source": [
        "# **II. ML and Credit Ratings.**\n"
      ],
      "metadata": {
        "id": "kk0vXgCyDXk0"
      }
    },
    {
      "cell_type": "markdown",
      "source": [
        "## 1. Import libraries.\n",
        "Installing necessary python libraries to build the model."
      ],
      "metadata": {
        "id": "xcfD3DSJESYi"
      }
    },
    {
      "cell_type": "code",
      "source": [
        "import pandas as pd\n",
        "import numpy as np\n",
        "import matplotlib.pyplot as plt\n",
        "import seaborn as sns\n",
        "from sklearn.model_selection import train_test_split\n",
        "from sklearn.tree import DecisionTreeClassifier\n",
        "from sklearn.metrics import accuracy_score, precision_score, recall_score, f1_score, confusion_matrix, classification_report\n",
        "from sklearn.preprocessing import StandardScaler"
      ],
      "metadata": {
        "id": "tcB_zRCYDeJU"
      },
      "execution_count": null,
      "outputs": []
    },
    {
      "cell_type": "markdown",
      "source": [
        "## 2. Historical Data for ML Credit rating, and EDA.\n",
        "This code loads a CSV for credit rating analysis, explores the data, cleans missing values, and displays the distribution of credit ratings, a thorough start for preparing data for machine learning."
      ],
      "metadata": {
        "id": "MVZfgv5dE4SH"
      }
    },
    {
      "cell_type": "code",
      "source": [
        "from google.colab import drive\n",
        "drive.mount('/content/drive')\n",
        "\n",
        "# Load the CSV file from Google Drive\n",
        "df = pd.read_csv('/content/drive/My Drive/ML_CreditRating.csv')\n",
        "\n",
        "# Exploratory Data Analysis (EDA)\n",
        "print(\"Data info:\")\n",
        "print(df.info())\n",
        "\n",
        "print(\"\\nFirst few rows of data:\")\n",
        "print(df.head())\n",
        "\n",
        "print(\"\\nSummary statistics:\")\n",
        "print(df.describe())\n",
        "\n",
        "# Check for missing values\n",
        "print(\"\\nMissing values:\")\n",
        "print(df.isnull().sum())\n",
        "\n",
        "# Remove rows with missing values\n",
        "df.dropna(inplace=True)\n",
        "\n",
        "# Check distribution of target variable (Credit Rating)\n",
        "plt.figure(figsize=(10, 6))\n",
        "sns.countplot(x='crating', data=df, color='red')\n",
        "plt.title(\"Distribution of Credit Ratings\")\n",
        "plt.show()"
      ],
      "metadata": {
        "colab": {
          "base_uri": "https://localhost:8080/",
          "height": 1000
        },
        "id": "bg_EgAOFE6wE",
        "outputId": "91eed0c4-bedd-49f5-f4ad-7845d723186f"
      },
      "execution_count": null,
      "outputs": [
        {
          "output_type": "stream",
          "name": "stdout",
          "text": [
            "Drive already mounted at /content/drive; to attempt to forcibly remount, call drive.mount(\"/content/drive\", force_remount=True).\n",
            "Data info:\n",
            "<class 'pandas.core.frame.DataFrame'>\n",
            "RangeIndex: 3854 entries, 0 to 3853\n",
            "Data columns (total 5 columns):\n",
            " #   Column        Non-Null Count  Dtype  \n",
            "---  ------        --------------  -----  \n",
            " 0   id            3854 non-null   int64  \n",
            " 1   cash          3854 non-null   float64\n",
            " 2   cratio        3854 non-null   float64\n",
            " 3   int_coverage  3854 non-null   float64\n",
            " 4   crating       3854 non-null   object \n",
            "dtypes: float64(3), int64(1), object(1)\n",
            "memory usage: 150.7+ KB\n",
            "None\n",
            "\n",
            "First few rows of data:\n",
            "   id      cash    cratio  int_coverage crating\n",
            "0   1  0.033710  2.197026      6.400783      BB\n",
            "1   2  0.006848  2.651447     26.945450     BB+\n",
            "2   3  0.197146  0.778815      1.583232      B-\n",
            "3   4  0.201701  0.760103      2.166163       D\n",
            "4   5  0.184529  0.901526      7.196721       B\n",
            "\n",
            "Summary statistics:\n",
            "                id         cash       cratio  int_coverage\n",
            "count  3854.000000  3854.000000  3854.000000   3854.000000\n",
            "mean   1927.500000     0.095043     1.734921     17.770070\n",
            "std    1112.698297     0.102599     1.175000    116.886343\n",
            "min       1.000000     0.000000     0.030311    -50.601570\n",
            "25%     964.250000     0.022472     1.045228      3.044563\n",
            "50%    1927.500000     0.064468     1.485584      5.503922\n",
            "75%    2890.750000     0.132741     2.108207     10.979363\n",
            "max    3854.000000     0.812402    23.000360   3094.640000\n",
            "\n",
            "Missing values:\n",
            "id              0\n",
            "cash            0\n",
            "cratio          0\n",
            "int_coverage    0\n",
            "crating         0\n",
            "dtype: int64\n"
          ]
        },
        {
          "output_type": "display_data",
          "data": {
            "text/plain": [
              "<Figure size 1000x600 with 1 Axes>"
            ],
            "image/png": "[encoded data removed]"
          },
          "metadata": {}
        }
      ]
    },
    {
      "cell_type": "markdown",
      "source": [
        "##3. Data Preprocessing\n",
        "\n",
        "This code snippet counts the occurrences of each unique credit rating in the dataset, creates a new DataFrame to hold these counts, and then displays the resulting summary table. This is an essential step in understanding the frequency distribution of the categorical data within the 'crating' column.\n"
      ],
      "metadata": {
        "id": "bzBLwMoJFgEd"
      }
    },
    {
      "cell_type": "code",
      "source": [
        "import pandas as pd\n",
        "\n",
        "# Get the counts of each unique value in the 'crating' column\n",
        "rating_counts = df['crating'].value_counts()\n",
        "\n",
        "# Create a DataFrame from the value counts\n",
        "rating_table = pd.DataFrame({'Credit Rating': rating_counts.index, 'Count': rating_counts.values})\n",
        "\n",
        "# Display the table\n",
        "print(rating_table)\n"
      ],
      "metadata": {
        "colab": {
          "base_uri": "https://localhost:8080/"
        },
        "id": "7hrqqIyBFkw3",
        "outputId": "802d5121-af22-45df-b2fb-39745bb7d07b"
      },
      "execution_count": null,
      "outputs": [
        {
          "output_type": "stream",
          "name": "stdout",
          "text": [
            "   Credit Rating  Count\n",
            "0             B+    444\n",
            "1              B    437\n",
            "2            BB-    421\n",
            "3            BBB    383\n",
            "4             BB    344\n",
            "5           BBB-    320\n",
            "6           BBB+    315\n",
            "7            BB+    253\n",
            "8             B-    233\n",
            "9             A-    217\n",
            "10             A    153\n",
            "11          CCC+     94\n",
            "12            A+     67\n",
            "13           AA-     39\n",
            "14           CCC     35\n",
            "15            AA     24\n",
            "16             D     23\n",
            "17          CCC-     19\n",
            "18            CC     17\n",
            "19            SD      8\n",
            "20           AAA      5\n",
            "21           AA+      3\n"
          ]
        }
      ]
    },
    {
      "cell_type": "code",
      "source": [
        "# Data Preprocessing\n",
        "# Feature scaling\n",
        "scaler = StandardScaler()\n",
        "\n",
        "# Extract relevant columns for feature scaling\n",
        "columns_to_scale = ['cash', 'cratio', 'int_coverage']\n",
        "\n",
        "# Scale the numeric features\n",
        "df[columns_to_scale] = scaler.fit_transform(df[columns_to_scale])\n",
        "\n",
        "# Print output statement\n",
        "print(\"Feature scaling completed. Scaled features:\")\n",
        "print(df[columns_to_scale].head())\n"
      ],
      "metadata": {
        "colab": {
          "base_uri": "https://localhost:8080/"
        },
        "id": "12DvqEPEFt2Y",
        "outputId": "9b96be2e-1593-4902-af36-4816965dcb23"
      },
      "execution_count": null,
      "outputs": [
        {
          "output_type": "stream",
          "name": "stdout",
          "text": [
            "Feature scaling completed. Scaled features:\n",
            "       cash    cratio  int_coverage\n",
            "0 -0.597872  0.393332     -0.097281\n",
            "1 -0.859725  0.780124      0.078508\n",
            "2  0.995296 -0.813813     -0.138502\n",
            "3  1.039702 -0.829740     -0.133514\n",
            "4  0.872302 -0.709365     -0.090470\n"
          ]
        }
      ]
    },
    {
      "cell_type": "code",
      "source": [
        "# Check data types of columns in the DataFrame\n",
        "print(df.dtypes)"
      ],
      "metadata": {
        "colab": {
          "base_uri": "https://localhost:8080/"
        },
        "id": "_dlKQTo9FyeE",
        "outputId": "c24402a1-7835-43a8-b4b1-66350497cb0e"
      },
      "execution_count": null,
      "outputs": [
        {
          "output_type": "stream",
          "name": "stdout",
          "text": [
            "id                int64\n",
            "cash            float64\n",
            "cratio          float64\n",
            "int_coverage    float64\n",
            "crating          object\n",
            "dtype: object\n"
          ]
        }
      ]
    },
    {
      "cell_type": "markdown",
      "source": [
        "## 4.1 Random Forest model"
      ],
      "metadata": {
        "id": "6JDdjFHUHOmE"
      }
    },
    {
      "cell_type": "code",
      "source": [
        "import pandas as pd\n",
        "from sklearn.model_selection import train_test_split\n",
        "from sklearn.preprocessing import LabelEncoder, StandardScaler\n",
        "from sklearn.ensemble import RandomForestClassifier\n",
        "from sklearn.metrics import accuracy_score, classification_report\n",
        "\n",
        "# Load the dataset\n",
        "data = df\n",
        "\n",
        "# Data preprocessing\n",
        "data.dropna(inplace=True)\n",
        "data['crating'] = data['crating'].astype('category')\n",
        "\n",
        "# Define a function to classify credit ratings into classes\n",
        "def classify_credit_rating(rating):\n",
        "    if rating in ['AAA', 'AA', 'A', 'AA+', 'A+', 'AA-', 'A-']:\n",
        "        return 'High'\n",
        "    elif rating in ['BBB', 'BB', 'B', 'BBB+', 'BB+', 'B+', 'BBB-', 'BB-', 'B-']:\n",
        "        return 'Medium'\n",
        "    else:\n",
        "        return 'Low'\n",
        "\n",
        "# Apply the function to create a new column with credit rating classes\n",
        "data['rating_class'] = data['crating'].apply(classify_credit_rating)\n",
        "\n",
        "# Encoding categorical target variable (credit rating classes) using LabelEncoder\n",
        "label_encoder = LabelEncoder()\n",
        "data['rating_class_encoded'] = label_encoder.fit_transform(data['rating_class'])\n",
        "\n",
        "# Split data into inputs (X) and output (y)\n",
        "X = data[['cash', 'cratio', 'int_coverage']]\n",
        "y = data['rating_class_encoded']\n",
        "\n",
        "# Standardize the features\n",
        "scaler = StandardScaler()\n",
        "X_scaled = scaler.fit_transform(X)\n",
        "\n",
        "# Split data into training and testing sets (80% train, 20% test)\n",
        "X_train, X_test, y_train, y_test = train_test_split(X_scaled, y, test_size=0.2, random_state=42)\n",
        "\n",
        "# Define the Random Forest classifier model\n",
        "model = RandomForestClassifier(n_estimators=100, random_state=42)\n",
        "\n",
        "# Train the model\n",
        "model.fit(X_train, y_train)\n",
        "\n",
        "# Evaluate the model\n",
        "y_pred = model.predict(X_test)\n",
        "\n",
        "accuracy = accuracy_score(y_test, y_pred)\n",
        "print(\"Accuracy for random forest:\", accuracy)\n",
        "\n",
        "# Classification report\n",
        "target_names = label_encoder.classes_\n",
        "print(\"Classification Report:\")\n",
        "print(classification_report(y_test, y_pred, target_names=target_names))\n"
      ],
      "metadata": {
        "colab": {
          "base_uri": "https://localhost:8080/"
        },
        "id": "ybafUZrHHZSu",
        "outputId": "c615fc24-ea60-4145-dd20-e27faafde72f"
      },
      "execution_count": null,
      "outputs": [
        {
          "output_type": "stream",
          "name": "stdout",
          "text": [
            "Accuracy for random forest: 0.8054474708171206\n",
            "Classification Report:\n",
            "              precision    recall  f1-score   support\n",
            "\n",
            "        High       0.35      0.16      0.22       101\n",
            "         Low       0.31      0.17      0.22        29\n",
            "      Medium       0.85      0.94      0.89       641\n",
            "\n",
            "    accuracy                           0.81       771\n",
            "   macro avg       0.50      0.42      0.44       771\n",
            "weighted avg       0.76      0.81      0.78       771\n",
            "\n"
          ]
        }
      ]
    },
    {
      "cell_type": "markdown",
      "source": [
        "**Comment:** The model predicts 'Medium' credit ratings well but struggles with 'High' and 'Low' categories, indicating room for improvement in model performance or data balance. Overall accuracy is at 80.5%."
      ],
      "metadata": {
        "id": "l6DmQzmhLnvZ"
      }
    },
    {
      "cell_type": "markdown",
      "source": [
        "## 4.2 Neural network model"
      ],
      "metadata": {
        "id": "ygAxEKKJHbvH"
      }
    },
    {
      "cell_type": "code",
      "source": [
        "import pandas as pd\n",
        "from sklearn.model_selection import train_test_split\n",
        "from sklearn.preprocessing import LabelEncoder, StandardScaler\n",
        "from keras.models import Sequential\n",
        "from keras.layers import Dense, Dropout\n",
        "from sklearn.metrics import accuracy_score, classification_report\n",
        "import numpy as np\n",
        "\n",
        "# Load the dataset\n",
        "data = df\n",
        "\n",
        "# Define a function to classify credit ratings into classes\n",
        "def classify_credit_rating(rating):\n",
        "    if rating in ['AAA', 'AA', 'A', 'AA+', 'A+', 'AA-', 'A-']:\n",
        "        return 'High'\n",
        "    elif rating in ['BBB', 'BB', 'B', 'BBB+', 'BB+', 'B+', 'BBB-', 'BB-', 'B-']:\n",
        "        return 'Medium'\n",
        "    else:\n",
        "        return 'Low'\n",
        "\n",
        "# Apply the function to create a new column with credit rating classes\n",
        "data['rating_class'] = data['crating'].apply(classify_credit_rating)\n",
        "\n",
        "# Encoding categorical target variable (credit rating classes) using LabelEncoder\n",
        "label_encoder = LabelEncoder()\n",
        "data['rating_class_encoded'] = label_encoder.fit_transform(data['rating_class'])\n",
        "\n",
        "# Split data into inputs (X) and output (y)\n",
        "X = data[['cash', 'cratio', 'int_coverage']]\n",
        "y = data['rating_class_encoded']\n",
        "\n",
        "# Standardize the features\n",
        "scaler = StandardScaler()\n",
        "X_scaled = scaler.fit_transform(X)\n",
        "\n",
        "# Split data into training and testing sets (80% train, 20% test)\n",
        "X_train, X_test, y_train, y_test = train_test_split(X_scaled, y, test_size=0.2, random_state=42)\n",
        "\n",
        "# Define the neural network model\n",
        "model = Sequential()\n",
        "model.add(Dense(128, activation='relu', input_shape=(X_train.shape[1],)))\n",
        "model.add(Dropout(0.5))\n",
        "model.add(Dense(64, activation='relu'))\n",
        "model.add(Dropout(0.5))\n",
        "model.add(Dense(3, activation='softmax'))  # Output layer with 3 classes (High, Medium, Low)\n",
        "\n",
        "# Compile the model\n",
        "model.compile(optimizer='adam', loss='sparse_categorical_crossentropy', metrics=['accuracy'])\n",
        "\n",
        "# Train the model\n",
        "model.fit(X_train, y_train, epochs=100, batch_size=20, verbose=1)\n",
        "\n",
        "# Evaluate the model\n",
        "y_pred_probs = model.predict(X_test)\n",
        "y_pred = np.argmax(y_pred_probs, axis=1)\n",
        "accuracy = accuracy_score(y_test, y_pred)\n",
        "print(\"Accuracy:\", accuracy)\n",
        "\n",
        "# Classification report\n",
        "target_names = label_encoder.classes_\n",
        "print(\"Classification Report:\")\n",
        "print(classification_report(y_test, y_pred, target_names=target_names))\n",
        "\n"
      ],
      "metadata": {
        "colab": {
          "base_uri": "https://localhost:8080/"
        },
        "id": "M-XDPqjUHoLX",
        "outputId": "6db93b89-690d-4bb2-d0d9-25c1090dc52c"
      },
      "execution_count": null,
      "outputs": [
        {
          "output_type": "stream",
          "name": "stdout",
          "text": [
            "Epoch 1/100\n",
            "155/155 [==============================] - 4s 10ms/step - loss: 0.7391 - accuracy: 0.7785\n",
            "Epoch 2/100\n",
            "155/155 [==============================] - 1s 8ms/step - loss: 0.6433 - accuracy: 0.8128\n",
            "Epoch 3/100\n",
            "155/155 [==============================] - 1s 6ms/step - loss: 0.6173 - accuracy: 0.8122\n",
            "Epoch 4/100\n",
            "155/155 [==============================] - 0s 3ms/step - loss: 0.6126 - accuracy: 0.8122\n",
            "Epoch 5/100\n",
            "155/155 [==============================] - 1s 3ms/step - loss: 0.5886 - accuracy: 0.8132\n",
            "Epoch 6/100\n",
            "155/155 [==============================] - 0s 3ms/step - loss: 0.5955 - accuracy: 0.8125\n",
            "Epoch 7/100\n",
            "155/155 [==============================] - 1s 5ms/step - loss: 0.5785 - accuracy: 0.8128\n",
            "Epoch 8/100\n",
            "155/155 [==============================] - 1s 5ms/step - loss: 0.5689 - accuracy: 0.8125\n",
            "Epoch 9/100\n",
            "155/155 [==============================] - 1s 5ms/step - loss: 0.5687 - accuracy: 0.8145\n",
            "Epoch 10/100\n",
            "155/155 [==============================] - 1s 5ms/step - loss: 0.5513 - accuracy: 0.8138\n",
            "Epoch 11/100\n",
            "155/155 [==============================] - 1s 5ms/step - loss: 0.5494 - accuracy: 0.8122\n",
            "Epoch 12/100\n",
            "155/155 [==============================] - 1s 6ms/step - loss: 0.5375 - accuracy: 0.8132\n",
            "Epoch 13/100\n",
            "155/155 [==============================] - 1s 5ms/step - loss: 0.5412 - accuracy: 0.8154\n",
            "Epoch 14/100\n",
            "155/155 [==============================] - 1s 6ms/step - loss: 0.5296 - accuracy: 0.8145\n",
            "Epoch 15/100\n",
            "155/155 [==============================] - 1s 5ms/step - loss: 0.5286 - accuracy: 0.8141\n",
            "Epoch 16/100\n",
            "155/155 [==============================] - 1s 5ms/step - loss: 0.5283 - accuracy: 0.8141\n",
            "Epoch 17/100\n",
            "155/155 [==============================] - 0s 3ms/step - loss: 0.5121 - accuracy: 0.8145\n",
            "Epoch 18/100\n",
            "155/155 [==============================] - 0s 3ms/step - loss: 0.5105 - accuracy: 0.8154\n",
            "Epoch 19/100\n",
            "155/155 [==============================] - 0s 3ms/step - loss: 0.5041 - accuracy: 0.8122\n",
            "Epoch 20/100\n",
            "155/155 [==============================] - 0s 3ms/step - loss: 0.5057 - accuracy: 0.8128\n",
            "Epoch 21/100\n",
            "155/155 [==============================] - 0s 3ms/step - loss: 0.5060 - accuracy: 0.8141\n",
            "Epoch 22/100\n",
            "155/155 [==============================] - 0s 3ms/step - loss: 0.5045 - accuracy: 0.8115\n",
            "Epoch 23/100\n",
            "155/155 [==============================] - 0s 3ms/step - loss: 0.4905 - accuracy: 0.8145\n",
            "Epoch 24/100\n",
            "155/155 [==============================] - 0s 3ms/step - loss: 0.4985 - accuracy: 0.8125\n",
            "Epoch 25/100\n",
            "155/155 [==============================] - 0s 3ms/step - loss: 0.4812 - accuracy: 0.8135\n",
            "Epoch 26/100\n",
            "155/155 [==============================] - 0s 3ms/step - loss: 0.4922 - accuracy: 0.8148\n",
            "Epoch 27/100\n",
            "155/155 [==============================] - 0s 3ms/step - loss: 0.4932 - accuracy: 0.8141\n",
            "Epoch 28/100\n",
            "155/155 [==============================] - 0s 3ms/step - loss: 0.4874 - accuracy: 0.8138\n",
            "Epoch 29/100\n",
            "155/155 [==============================] - 0s 3ms/step - loss: 0.4866 - accuracy: 0.8141\n",
            "Epoch 30/100\n",
            "155/155 [==============================] - 0s 3ms/step - loss: 0.4855 - accuracy: 0.8148\n",
            "Epoch 31/100\n",
            "155/155 [==============================] - 0s 3ms/step - loss: 0.4858 - accuracy: 0.8125\n",
            "Epoch 32/100\n",
            "155/155 [==============================] - 0s 3ms/step - loss: 0.4859 - accuracy: 0.8135\n",
            "Epoch 33/100\n",
            "155/155 [==============================] - 0s 3ms/step - loss: 0.4794 - accuracy: 0.8145\n",
            "Epoch 34/100\n",
            "155/155 [==============================] - 0s 3ms/step - loss: 0.4755 - accuracy: 0.8128\n",
            "Epoch 35/100\n",
            "155/155 [==============================] - 0s 3ms/step - loss: 0.4751 - accuracy: 0.8138\n",
            "Epoch 36/100\n",
            "155/155 [==============================] - 0s 3ms/step - loss: 0.4784 - accuracy: 0.8122\n",
            "Epoch 37/100\n",
            "155/155 [==============================] - 0s 3ms/step - loss: 0.4815 - accuracy: 0.8138\n",
            "Epoch 38/100\n",
            "155/155 [==============================] - 0s 3ms/step - loss: 0.4815 - accuracy: 0.8125\n",
            "Epoch 39/100\n",
            "155/155 [==============================] - 1s 4ms/step - loss: 0.4758 - accuracy: 0.8135\n",
            "Epoch 40/100\n",
            "155/155 [==============================] - 1s 4ms/step - loss: 0.4714 - accuracy: 0.8135\n",
            "Epoch 41/100\n",
            "155/155 [==============================] - 1s 4ms/step - loss: 0.4782 - accuracy: 0.8135\n",
            "Epoch 42/100\n",
            "155/155 [==============================] - 1s 4ms/step - loss: 0.4724 - accuracy: 0.8125\n",
            "Epoch 43/100\n",
            "155/155 [==============================] - 1s 5ms/step - loss: 0.4884 - accuracy: 0.8132\n",
            "Epoch 44/100\n",
            "155/155 [==============================] - 1s 5ms/step - loss: 0.4760 - accuracy: 0.8138\n",
            "Epoch 45/100\n",
            "155/155 [==============================] - 1s 3ms/step - loss: 0.4734 - accuracy: 0.8138\n",
            "Epoch 46/100\n",
            "155/155 [==============================] - 0s 3ms/step - loss: 0.4732 - accuracy: 0.8148\n",
            "Epoch 47/100\n",
            "155/155 [==============================] - 0s 3ms/step - loss: 0.4678 - accuracy: 0.8128\n",
            "Epoch 48/100\n",
            "155/155 [==============================] - 0s 3ms/step - loss: 0.4786 - accuracy: 0.8141\n",
            "Epoch 49/100\n",
            "155/155 [==============================] - 0s 3ms/step - loss: 0.4740 - accuracy: 0.8138\n",
            "Epoch 50/100\n",
            "155/155 [==============================] - 0s 3ms/step - loss: 0.4679 - accuracy: 0.8151\n",
            "Epoch 51/100\n",
            "155/155 [==============================] - 0s 3ms/step - loss: 0.4704 - accuracy: 0.8145\n",
            "Epoch 52/100\n",
            "155/155 [==============================] - 0s 3ms/step - loss: 0.4734 - accuracy: 0.8141\n",
            "Epoch 53/100\n",
            "155/155 [==============================] - 0s 3ms/step - loss: 0.4699 - accuracy: 0.8167\n",
            "Epoch 54/100\n",
            "155/155 [==============================] - 0s 3ms/step - loss: 0.4693 - accuracy: 0.8145\n",
            "Epoch 55/100\n",
            "155/155 [==============================] - 0s 3ms/step - loss: 0.4653 - accuracy: 0.8135\n",
            "Epoch 56/100\n",
            "155/155 [==============================] - 0s 3ms/step - loss: 0.4694 - accuracy: 0.8145\n",
            "Epoch 57/100\n",
            "155/155 [==============================] - 0s 3ms/step - loss: 0.4664 - accuracy: 0.8141\n",
            "Epoch 58/100\n",
            "155/155 [==============================] - 0s 3ms/step - loss: 0.4668 - accuracy: 0.8161\n",
            "Epoch 59/100\n",
            "155/155 [==============================] - 0s 2ms/step - loss: 0.4642 - accuracy: 0.8112\n",
            "Epoch 60/100\n",
            "155/155 [==============================] - 0s 2ms/step - loss: 0.4629 - accuracy: 0.8154\n",
            "Epoch 61/100\n",
            "155/155 [==============================] - 0s 2ms/step - loss: 0.4683 - accuracy: 0.8135\n",
            "Epoch 62/100\n",
            "155/155 [==============================] - 0s 2ms/step - loss: 0.4635 - accuracy: 0.8122\n",
            "Epoch 63/100\n",
            "155/155 [==============================] - 0s 2ms/step - loss: 0.4630 - accuracy: 0.8122\n",
            "Epoch 64/100\n",
            "155/155 [==============================] - 0s 2ms/step - loss: 0.4653 - accuracy: 0.8125\n",
            "Epoch 65/100\n",
            "155/155 [==============================] - 0s 3ms/step - loss: 0.4701 - accuracy: 0.8102\n",
            "Epoch 66/100\n",
            "155/155 [==============================] - 0s 3ms/step - loss: 0.4577 - accuracy: 0.8132\n",
            "Epoch 67/100\n",
            "155/155 [==============================] - 0s 3ms/step - loss: 0.4629 - accuracy: 0.8167\n",
            "Epoch 68/100\n",
            "155/155 [==============================] - 0s 3ms/step - loss: 0.4663 - accuracy: 0.8167\n",
            "Epoch 69/100\n",
            "155/155 [==============================] - 1s 4ms/step - loss: 0.4620 - accuracy: 0.8161\n",
            "Epoch 70/100\n",
            "155/155 [==============================] - 1s 4ms/step - loss: 0.4541 - accuracy: 0.8128\n",
            "Epoch 71/100\n",
            "155/155 [==============================] - 1s 4ms/step - loss: 0.4641 - accuracy: 0.8135\n",
            "Epoch 72/100\n",
            "155/155 [==============================] - 1s 4ms/step - loss: 0.4646 - accuracy: 0.8122\n",
            "Epoch 73/100\n",
            "155/155 [==============================] - 1s 5ms/step - loss: 0.4676 - accuracy: 0.8122\n",
            "Epoch 74/100\n",
            "155/155 [==============================] - 1s 5ms/step - loss: 0.4611 - accuracy: 0.8158\n",
            "Epoch 75/100\n",
            "155/155 [==============================] - 1s 3ms/step - loss: 0.4596 - accuracy: 0.8171\n",
            "Epoch 76/100\n",
            "155/155 [==============================] - 1s 3ms/step - loss: 0.4648 - accuracy: 0.8122\n",
            "Epoch 77/100\n",
            "155/155 [==============================] - 0s 3ms/step - loss: 0.4562 - accuracy: 0.8141\n",
            "Epoch 78/100\n",
            "155/155 [==============================] - 0s 3ms/step - loss: 0.4633 - accuracy: 0.8167\n",
            "Epoch 79/100\n",
            "155/155 [==============================] - 0s 3ms/step - loss: 0.4590 - accuracy: 0.8138\n",
            "Epoch 80/100\n",
            "155/155 [==============================] - 0s 3ms/step - loss: 0.4589 - accuracy: 0.8145\n",
            "Epoch 81/100\n",
            "155/155 [==============================] - 0s 2ms/step - loss: 0.4690 - accuracy: 0.8138\n",
            "Epoch 82/100\n",
            "155/155 [==============================] - 0s 2ms/step - loss: 0.4624 - accuracy: 0.8115\n",
            "Epoch 83/100\n",
            "155/155 [==============================] - 0s 2ms/step - loss: 0.4583 - accuracy: 0.8177\n",
            "Epoch 84/100\n",
            "155/155 [==============================] - 0s 2ms/step - loss: 0.4635 - accuracy: 0.8161\n",
            "Epoch 85/100\n",
            "155/155 [==============================] - 0s 2ms/step - loss: 0.4602 - accuracy: 0.8145\n",
            "Epoch 86/100\n",
            "155/155 [==============================] - 0s 2ms/step - loss: 0.4670 - accuracy: 0.8184\n",
            "Epoch 87/100\n",
            "155/155 [==============================] - 0s 2ms/step - loss: 0.4663 - accuracy: 0.8138\n",
            "Epoch 88/100\n",
            "155/155 [==============================] - 0s 2ms/step - loss: 0.4673 - accuracy: 0.8161\n",
            "Epoch 89/100\n",
            "155/155 [==============================] - 0s 2ms/step - loss: 0.4598 - accuracy: 0.8171\n",
            "Epoch 90/100\n",
            "155/155 [==============================] - 0s 2ms/step - loss: 0.4639 - accuracy: 0.8125\n",
            "Epoch 91/100\n",
            "155/155 [==============================] - 0s 2ms/step - loss: 0.4611 - accuracy: 0.8135\n",
            "Epoch 92/100\n",
            "155/155 [==============================] - 0s 2ms/step - loss: 0.4579 - accuracy: 0.8145\n",
            "Epoch 93/100\n",
            "155/155 [==============================] - 0s 2ms/step - loss: 0.4653 - accuracy: 0.8138\n",
            "Epoch 94/100\n",
            "155/155 [==============================] - 0s 3ms/step - loss: 0.4583 - accuracy: 0.8151\n",
            "Epoch 95/100\n",
            "155/155 [==============================] - 0s 3ms/step - loss: 0.4620 - accuracy: 0.8125\n",
            "Epoch 96/100\n",
            "155/155 [==============================] - 0s 3ms/step - loss: 0.4607 - accuracy: 0.8151\n",
            "Epoch 97/100\n",
            "155/155 [==============================] - 0s 3ms/step - loss: 0.4657 - accuracy: 0.8096\n",
            "Epoch 98/100\n",
            "155/155 [==============================] - 0s 3ms/step - loss: 0.4628 - accuracy: 0.8128\n",
            "Epoch 99/100\n",
            "155/155 [==============================] - 1s 4ms/step - loss: 0.4548 - accuracy: 0.8132\n",
            "Epoch 100/100\n",
            "155/155 [==============================] - 2s 10ms/step - loss: 0.4645 - accuracy: 0.8122\n",
            "25/25 [==============================] - 0s 2ms/step\n",
            "Accuracy: 0.8287937743190662\n",
            "Classification Report:\n",
            "              precision    recall  f1-score   support\n",
            "\n",
            "        High       0.00      0.00      0.00       101\n",
            "         Low       0.00      0.00      0.00        29\n",
            "      Medium       0.83      1.00      0.91       641\n",
            "\n",
            "    accuracy                           0.83       771\n",
            "   macro avg       0.28      0.33      0.30       771\n",
            "weighted avg       0.69      0.83      0.75       771\n",
            "\n"
          ]
        },
        {
          "output_type": "stream",
          "name": "stderr",
          "text": [
            "/usr/local/lib/python3.10/dist-packages/sklearn/metrics/_classification.py:1344: UndefinedMetricWarning: Precision and F-score are ill-defined and being set to 0.0 in labels with no predicted samples. Use `zero_division` parameter to control this behavior.\n",
            "  _warn_prf(average, modifier, msg_start, len(result))\n",
            "/usr/local/lib/python3.10/dist-packages/sklearn/metrics/_classification.py:1344: UndefinedMetricWarning: Precision and F-score are ill-defined and being set to 0.0 in labels with no predicted samples. Use `zero_division` parameter to control this behavior.\n",
            "  _warn_prf(average, modifier, msg_start, len(result))\n",
            "/usr/local/lib/python3.10/dist-packages/sklearn/metrics/_classification.py:1344: UndefinedMetricWarning: Precision and F-score are ill-defined and being set to 0.0 in labels with no predicted samples. Use `zero_division` parameter to control this behavior.\n",
            "  _warn_prf(average, modifier, msg_start, len(result))\n"
          ]
        }
      ]
    },
    {
      "cell_type": "markdown",
      "source": [
        "**Comment:** The neural network excels at predicting 'Medium' ratings but misses all 'High' and 'Low' ratings, suggesting a need for model improvement and possibly more balanced data for those classes. The accuracy is about 83%."
      ],
      "metadata": {
        "id": "5Ts6XAbnMH25"
      }
    },
    {
      "cell_type": "code",
      "source": [
        "new_data = pd.DataFrame({'cash': [0.10], 'cratio': [2.5], 'int_coverage': [8.5]})\n",
        "new_data_scaled = scaler.transform(new_data)\n",
        "new_prediction_probs = model.predict(new_data_scaled)\n",
        "new_prediction = np.argmax(new_prediction_probs)\n",
        "predicted_class = label_encoder.inverse_transform([new_prediction])[0]\n",
        "print(\"Predicted credit rating:\", predicted_class)"
      ],
      "metadata": {
        "colab": {
          "base_uri": "https://localhost:8080/"
        },
        "id": "dteyE_HOHuVV",
        "outputId": "1f6f784b-9ec4-46d6-fb68-6b1dc70fc7cb"
      },
      "execution_count": null,
      "outputs": [
        {
          "output_type": "stream",
          "name": "stdout",
          "text": [
            "1/1 [==============================] - 0s 114ms/step\n",
            "Predicted credit rating for new data: Medium\n"
          ]
        }
      ]
    },
    {
      "cell_type": "markdown",
      "source": [
        "**Conclusion:** Upon assessing the fresh data through our trained neural network, the company holding 10% cash, a Current Ratio of 2.5, and an Interest Coverage Ratio of 8.5 is assigned a 'Medium' credit rating. According to the model's learned parameters, the company's financial standing is deemed to be in the 'Medium' risk bracket. Within common credit rating benchmarks, this equates to ratings like BBB to B-, which indicate a moderate risk tier for creditors."
      ],
      "metadata": {
        "id": "707VDSwENzOn"
      }
    },
    {
      "cell_type": "markdown",
      "source": [
        "## Here are three specific reasons why I have chosen the **Neural Network** over the **Random Forest** :\n",
        "\n",
        "Classification Capability: The neural network correctly classified the 'Medium' credit ratings with high precision and recall, indicating a strong fit for the majority class in the dataset.\n",
        "\n",
        "Overall Accuracy: Despite the neural network not recognizing 'High' and 'Low' categories, it still achieved an accuracy of about 83%, which was higher than the random forest's accuracy of approximately 80.5%.\n",
        "\n",
        "Prediction Consistency: The neural network consistently predicted the 'Medium' category correctly, suggesting reliable performance in this specific area of the dataset."
      ],
      "metadata": {
        "id": "PE2IWAQiOpOH"
      }
    }
  ]
}